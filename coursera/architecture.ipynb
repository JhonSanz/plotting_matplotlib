{
 "cells": [
  {
   "attachments": {},
   "cell_type": "markdown",
   "metadata": {},
   "source": [
    "# Backend layer\n",
    "\"Matplotlib targets many different use cases and output formats.\"\n",
    "It means that this library is used in different environments (https://matplotlib.org/stable/users/explain/backends.html) like jupyter notebooks, batch scripts, shell, PyQt etc.\n",
    "\n",
    "For this purpose were backends created. So, make sure you use the correct one.\n",
    "\n",
    "It deals with the rendering of plots to screen or files. Knows about low level graphics routines it can render to the screen or to a file."
   ]
  },
  {
   "cell_type": "code",
   "execution_count": 6,
   "metadata": {},
   "outputs": [
    {
     "data": {
      "text/plain": [
       "'nbAgg'"
      ]
     },
     "execution_count": 6,
     "metadata": {},
     "output_type": "execute_result"
    }
   ],
   "source": [
    "%matplotlib notebook\n",
    "import matplotlib as mpl\n",
    "import pandas as pd\n",
    "mpl.get_backend()"
   ]
  },
  {
   "attachments": {},
   "cell_type": "markdown",
   "metadata": {},
   "source": [
    "# Artist Layer\n",
    "- Contains containers such as Figure, Subplot and Axes.\n",
    "- Contains primitives, such as a line2D and Rectangle, and collecions such as a PathCollecition.\n",
    "\n",
    "Describes primites, collections and containers. it knows how figures are composed of subfigures and where objects are in a given axes coodinated system."
   ]
  },
  {
   "attachments": {},
   "cell_type": "markdown",
   "metadata": {},
   "source": [
    "# Scripting Layer\n",
    "Simplifies access to the Artist and Backend layer."
   ]
  },
  {
   "attachments": {},
   "cell_type": "markdown",
   "metadata": {},
   "source": [
    "There are tow ways to build visualizations, _procedural_ and _declarative_.\n",
    "\n",
    "Example: HTML is declarative, and pyplot is procedural.\n",
    "\n",
    "In the procedural way we tell the underlying sofware wich drawing actios we want it to take in order to render our data.\n",
    "\n",
    "In the declarative, instead of issuing command after command to the backend rendering agent, (for example HTML wich is the browser), documents are formatted as models of relationships in a document, often called the DOM."
   ]
  }
 ],
 "metadata": {
  "kernelspec": {
   "display_name": "env",
   "language": "python",
   "name": "python3"
  },
  "language_info": {
   "codemirror_mode": {
    "name": "ipython",
    "version": 3
   },
   "file_extension": ".py",
   "mimetype": "text/x-python",
   "name": "python",
   "nbconvert_exporter": "python",
   "pygments_lexer": "ipython3",
   "version": "3.10.9 (tags/v3.10.9:1dd9be6, Dec  6 2022, 20:01:21) [MSC v.1934 64 bit (AMD64)]"
  },
  "orig_nbformat": 4,
  "vscode": {
   "interpreter": {
    "hash": "7d179658b9dd9774c8263886c4e00a84486a2e2a54f6aaec1f0d096d532b6eac"
   }
  }
 },
 "nbformat": 4,
 "nbformat_minor": 2
}
